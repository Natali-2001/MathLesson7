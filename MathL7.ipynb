{
 "cells": [
  {
   "cell_type": "code",
   "execution_count": 1,
   "metadata": {},
   "outputs": [],
   "source": [
    "import numpy as np"
   ]
  },
  {
   "cell_type": "code",
   "execution_count": null,
   "metadata": {},
   "outputs": [],
   "source": [
    "#Задание 5.1 (проверка\"бумажки\")\n",
    "a = np.array([[1, 0, 0, 0, 0], [0, 1, 0, 0, 0], [0, 0, 1, 0, 0], [0, 0, 0, 1, 0], [0, 0, 0, 0, 1]], float)\n",
    "p = np.linalg.inv(5*a)\n",
    "print(p)"
   ]
  },
  {
   "cell_type": "code",
   "execution_count": null,
   "metadata": {},
   "outputs": [],
   "source": [
    "#Задание 5.2 (проверка\"бумажки\")\n",
    "a = np.array([[1, 2, 3], [4, 0, 6], [7, 8, 9]], float)\n",
    "d = np.linalg.det(a)\n",
    "print(d)"
   ]
  },
  {
   "cell_type": "code",
   "execution_count": null,
   "metadata": {},
   "outputs": [],
   "source": [
    "#Задание 5.3.1 (проверка\"бумажки\")\n",
    "a = np.array([[1, 2, 3], [4, 0, 6], [7, 8, 9]], float)\n",
    "d = np.linalg.inv(a)\n",
    "print(d)"
   ]
  },
  {
   "cell_type": "code",
   "execution_count": null,
   "metadata": {},
   "outputs": [],
   "source": [
    "#Задание 5.3.2 (проверка\"бумажки\")\n",
    "a = np.array([[1, 2, 3, 4], [2, 4, 6, 8], [3, 6, 9, 12], [5, 10, 15, 20]], float)\n",
    "d = np.linalg.matrix_rank(a, 0.0001)\n",
    "print(d)"
   ]
  },
  {
   "cell_type": "code",
   "execution_count": null,
   "metadata": {},
   "outputs": [],
   "source": [
    "#Задание 5.4 (проверка\"бумажки\")\n",
    "a = np.array([1, 5], float)\n",
    "b = np.array([2, 8], float)\n",
    "s = np.inner(a, b)\n",
    "print(s)"
   ]
  },
  {
   "cell_type": "code",
   "execution_count": null,
   "metadata": {},
   "outputs": [],
   "source": [
    "#Задание 5.5 (проверка\"бумажки\")\n",
    "a = np.array([1, 5, 0], float)\n",
    "b = np.array([2, 8, 7], float)\n",
    "c = np.array([7, 1.5, 3], float)\n",
    "v = np.cross(a, b)\n",
    "w = np.inner(v, c)\n",
    "print(w)"
   ]
  }
 ],
 "metadata": {
  "kernelspec": {
   "display_name": "Python 3",
   "language": "python",
   "name": "python3"
  },
  "language_info": {
   "codemirror_mode": {
    "name": "ipython",
    "version": 3
   },
   "file_extension": ".py",
   "mimetype": "text/x-python",
   "name": "python",
   "nbconvert_exporter": "python",
   "pygments_lexer": "ipython3",
   "version": "3.8.5"
  }
 },
 "nbformat": 4,
 "nbformat_minor": 4
}
